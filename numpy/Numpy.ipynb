{
 "cells": [
  {
   "cell_type": "code",
   "execution_count": 8,
   "metadata": {},
   "outputs": [],
   "source": [
    "# 1. leia o dataset usando pandas\n",
    "\n",
    "import pandas as pd\n",
    "\n",
    "salary_Data = pd.read_csv('Salary_Data.csv')"
   ]
  },
  {
   "cell_type": "code",
   "execution_count": 9,
   "metadata": {},
   "outputs": [],
   "source": [
    "# 2. Converta os dados relevantes em arrays NumPy (utilize o método .to_numpy())\n",
    "\n",
    "salary = salary_Data['Salary'].to_numpy()\n",
    "time_service = salary_Data['YearsExperience'].to_numpy()"
   ]
  },
  {
   "cell_type": "code",
   "execution_count": 10,
   "metadata": {},
   "outputs": [
    {
     "name": "stdout",
     "output_type": "stream",
     "text": [
      "76003.0\n"
     ]
    }
   ],
   "source": [
    "# 3. Calcule a média de salário\n",
    "\n",
    "import numpy as np\n",
    "\n",
    "media_salary = np.mean(salary)\n",
    "print(media_salary)"
   ]
  },
  {
   "cell_type": "code",
   "execution_count": null,
   "metadata": {},
   "outputs": [],
   "source": [
    "# Passo 4: Calcular a média de tempo de serviço\n",
    "\n",
    "media_service = np.mean(time_service)\n",
    "print(time_service)"
   ]
  },
  {
   "cell_type": "code",
   "execution_count": 12,
   "metadata": {},
   "outputs": [
    {
     "name": "stdout",
     "output_type": "stream",
     "text": [
      "101316.07142857143\n"
     ]
    }
   ],
   "source": [
    "# Passo 5: Encontrar o salário médio dos funcionários com mais de 5 anos de serviço\n",
    "\n",
    "employees5 = salary_Data[salary_Data['YearsExperience'] > 5]\n",
    "media_salary5 = np.mean(employees5['Salary'])\n",
    "print(media_salary5)"
   ]
  }
 ],
 "metadata": {
  "kernelspec": {
   "display_name": "Python 3",
   "language": "python",
   "name": "python3"
  },
  "language_info": {
   "codemirror_mode": {
    "name": "ipython",
    "version": 3
   },
   "file_extension": ".py",
   "mimetype": "text/x-python",
   "name": "python",
   "nbconvert_exporter": "python",
   "pygments_lexer": "ipython3",
   "version": "3.13.0"
  }
 },
 "nbformat": 4,
 "nbformat_minor": 2
}
